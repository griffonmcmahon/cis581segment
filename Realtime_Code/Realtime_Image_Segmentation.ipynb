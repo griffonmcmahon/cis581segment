{
  "nbformat": 4,
  "nbformat_minor": 0,
  "metadata": {
    "colab": {
      "name": "transparent_pretrainedModel.ipynb",
      "provenance": [],
      "collapsed_sections": []
    },
    "kernelspec": {
      "name": "python3",
      "display_name": "Python 3"
    },
    "accelerator": "GPU"
  },
  "cells": [
    {
      "cell_type": "code",
      "metadata": {
        "id": "Idu65HIm1qxW",
        "colab": {
          "base_uri": "https://localhost:8080/"
        },
        "outputId": "130f6181-0136-4845-b708-8f33e227bba7"
      },
      "source": [
        "# install dependencies: \n",
        "!pip install pyyaml==5.1 'pycocotools>=2.0.1'\n",
        "#!pip install torch==1.6.0+cu101 torchvision==0.7.0+cu101 -f https://download.pytorch.org/whl/torch_stable.html\n",
        "\n",
        "import torch, torchvision\n",
        "print(torch.__version__, torch.cuda.is_available())\n",
        "#!gcc --version\n",
        "# opencv is pre-installed on colab"
      ],
      "execution_count": 1,
      "outputs": [
        {
          "output_type": "stream",
          "text": [
            "Collecting pyyaml==5.1\n",
            "\u001b[?25l  Downloading https://files.pythonhosted.org/packages/9f/2c/9417b5c774792634834e730932745bc09a7d36754ca00acf1ccd1ac2594d/PyYAML-5.1.tar.gz (274kB)\n",
            "\r\u001b[K     |█▏                              | 10kB 24.4MB/s eta 0:00:01\r\u001b[K     |██▍                             | 20kB 13.9MB/s eta 0:00:01\r\u001b[K     |███▋                            | 30kB 12.2MB/s eta 0:00:01\r\u001b[K     |████▉                           | 40kB 11.7MB/s eta 0:00:01\r\u001b[K     |██████                          | 51kB 8.3MB/s eta 0:00:01\r\u001b[K     |███████▏                        | 61kB 6.3MB/s eta 0:00:01\r\u001b[K     |████████▍                       | 71kB 7.1MB/s eta 0:00:01\r\u001b[K     |█████████▋                      | 81kB 8.0MB/s eta 0:00:01\r\u001b[K     |██████████▊                     | 92kB 8.5MB/s eta 0:00:01\r\u001b[K     |████████████                    | 102kB 8.0MB/s eta 0:00:01\r\u001b[K     |█████████████▏                  | 112kB 8.0MB/s eta 0:00:01\r\u001b[K     |██████████████▍                 | 122kB 8.0MB/s eta 0:00:01\r\u001b[K     |███████████████▌                | 133kB 8.0MB/s eta 0:00:01\r\u001b[K     |████████████████▊               | 143kB 8.0MB/s eta 0:00:01\r\u001b[K     |██████████████████              | 153kB 8.0MB/s eta 0:00:01\r\u001b[K     |███████████████████▏            | 163kB 8.0MB/s eta 0:00:01\r\u001b[K     |████████████████████▎           | 174kB 8.0MB/s eta 0:00:01\r\u001b[K     |█████████████████████▌          | 184kB 8.0MB/s eta 0:00:01\r\u001b[K     |██████████████████████▊         | 194kB 8.0MB/s eta 0:00:01\r\u001b[K     |████████████████████████        | 204kB 8.0MB/s eta 0:00:01\r\u001b[K     |█████████████████████████       | 215kB 8.0MB/s eta 0:00:01\r\u001b[K     |██████████████████████████▎     | 225kB 8.0MB/s eta 0:00:01\r\u001b[K     |███████████████████████████▌    | 235kB 8.0MB/s eta 0:00:01\r\u001b[K     |████████████████████████████▊   | 245kB 8.0MB/s eta 0:00:01\r\u001b[K     |█████████████████████████████▉  | 256kB 8.0MB/s eta 0:00:01\r\u001b[K     |███████████████████████████████ | 266kB 8.0MB/s eta 0:00:01\r\u001b[K     |████████████████████████████████| 276kB 8.0MB/s \n",
            "\u001b[?25hRequirement already satisfied: pycocotools>=2.0.1 in /usr/local/lib/python3.6/dist-packages (2.0.2)\n",
            "Requirement already satisfied: setuptools>=18.0 in /usr/local/lib/python3.6/dist-packages (from pycocotools>=2.0.1) (50.3.2)\n",
            "Requirement already satisfied: cython>=0.27.3 in /usr/local/lib/python3.6/dist-packages (from pycocotools>=2.0.1) (0.29.21)\n",
            "Requirement already satisfied: matplotlib>=2.1.0 in /usr/local/lib/python3.6/dist-packages (from pycocotools>=2.0.1) (3.2.2)\n",
            "Requirement already satisfied: numpy>=1.11 in /usr/local/lib/python3.6/dist-packages (from matplotlib>=2.1.0->pycocotools>=2.0.1) (1.19.4)\n",
            "Requirement already satisfied: cycler>=0.10 in /usr/local/lib/python3.6/dist-packages (from matplotlib>=2.1.0->pycocotools>=2.0.1) (0.10.0)\n",
            "Requirement already satisfied: pyparsing!=2.0.4,!=2.1.2,!=2.1.6,>=2.0.1 in /usr/local/lib/python3.6/dist-packages (from matplotlib>=2.1.0->pycocotools>=2.0.1) (2.4.7)\n",
            "Requirement already satisfied: python-dateutil>=2.1 in /usr/local/lib/python3.6/dist-packages (from matplotlib>=2.1.0->pycocotools>=2.0.1) (2.8.1)\n",
            "Requirement already satisfied: kiwisolver>=1.0.1 in /usr/local/lib/python3.6/dist-packages (from matplotlib>=2.1.0->pycocotools>=2.0.1) (1.3.1)\n",
            "Requirement already satisfied: six in /usr/local/lib/python3.6/dist-packages (from cycler>=0.10->matplotlib>=2.1.0->pycocotools>=2.0.1) (1.15.0)\n",
            "Building wheels for collected packages: pyyaml\n",
            "  Building wheel for pyyaml (setup.py) ... \u001b[?25l\u001b[?25hdone\n",
            "  Created wheel for pyyaml: filename=PyYAML-5.1-cp36-cp36m-linux_x86_64.whl size=44075 sha256=4234c3e53ab764a0b86c844bef9ccd62a2d12cb65b000e1b9267350377c959ca\n",
            "  Stored in directory: /root/.cache/pip/wheels/ad/56/bc/1522f864feb2a358ea6f1a92b4798d69ac783a28e80567a18b\n",
            "Successfully built pyyaml\n",
            "Installing collected packages: pyyaml\n",
            "  Found existing installation: PyYAML 3.13\n",
            "    Uninstalling PyYAML-3.13:\n",
            "      Successfully uninstalled PyYAML-3.13\n",
            "Successfully installed pyyaml-5.1\n",
            "1.7.0+cu101 True\n"
          ],
          "name": "stdout"
        }
      ]
    },
    {
      "cell_type": "code",
      "metadata": {
        "colab": {
          "base_uri": "https://localhost:8080/",
          "height": 1000
        },
        "id": "BJAoCaOZ1teR",
        "outputId": "211586d7-2147-440b-a6ad-316e0386313e"
      },
      "source": [
        "# install detectron2: (Colab has CUDA 10.1 + torch 1.6)\n",
        "# See https://detectron2.readthedocs.io/tutorials/install.html for instructions\n",
        "#assert torch.__version__.startswith(\"1.6\")\n",
        "!pip install detectron2 -f https://dl.fbaipublicfiles.com/detectron2/wheels/cu101/torch1.6/index.html"
      ],
      "execution_count": 2,
      "outputs": [
        {
          "output_type": "stream",
          "text": [
            "Looking in links: https://dl.fbaipublicfiles.com/detectron2/wheels/cu101/torch1.6/index.html\n",
            "Collecting detectron2\n",
            "\u001b[?25l  Downloading https://dl.fbaipublicfiles.com/detectron2/wheels/cu101/torch1.6/detectron2-0.3%2Bcu101-cp36-cp36m-linux_x86_64.whl (6.6MB)\n",
            "\u001b[K     |████████████████████████████████| 6.6MB 12.6MB/s \n",
            "\u001b[?25hRequirement already satisfied: future in /usr/local/lib/python3.6/dist-packages (from detectron2) (0.16.0)\n",
            "Requirement already satisfied: tabulate in /usr/local/lib/python3.6/dist-packages (from detectron2) (0.8.7)\n",
            "Collecting fvcore>=0.1.2\n",
            "  Downloading https://files.pythonhosted.org/packages/8a/c8/46fccfaf9348e052e00b36765dee913dcd77a480bf3a9d4b4922602774ec/fvcore-0.1.2.post20201218.tar.gz\n",
            "Requirement already satisfied: pycocotools>=2.0.2 in /usr/local/lib/python3.6/dist-packages (from detectron2) (2.0.2)\n",
            "Requirement already satisfied: cloudpickle in /usr/local/lib/python3.6/dist-packages (from detectron2) (1.3.0)\n",
            "Requirement already satisfied: pydot in /usr/local/lib/python3.6/dist-packages (from detectron2) (1.3.0)\n",
            "Requirement already satisfied: matplotlib in /usr/local/lib/python3.6/dist-packages (from detectron2) (3.2.2)\n",
            "Requirement already satisfied: tqdm>4.29.0 in /usr/local/lib/python3.6/dist-packages (from detectron2) (4.41.1)\n",
            "Collecting Pillow>=7.1\n",
            "\u001b[?25l  Downloading https://files.pythonhosted.org/packages/5f/19/d4c25111d36163698396f93c363114cf1cddbacb24744f6612f25b6aa3d0/Pillow-8.0.1-cp36-cp36m-manylinux1_x86_64.whl (2.2MB)\n",
            "\u001b[K     |████████████████████████████████| 2.2MB 12.9MB/s \n",
            "\u001b[?25hRequirement already satisfied: tensorboard in /usr/local/lib/python3.6/dist-packages (from detectron2) (2.4.0)\n",
            "Requirement already satisfied: termcolor>=1.1 in /usr/local/lib/python3.6/dist-packages (from detectron2) (1.1.0)\n",
            "Collecting yacs>=0.1.6\n",
            "  Downloading https://files.pythonhosted.org/packages/38/4f/fe9a4d472aa867878ce3bb7efb16654c5d63672b86dc0e6e953a67018433/yacs-0.1.8-py3-none-any.whl\n",
            "Requirement already satisfied: numpy in /usr/local/lib/python3.6/dist-packages (from fvcore>=0.1.2->detectron2) (1.19.4)\n",
            "Requirement already satisfied: pyyaml>=5.1 in /usr/local/lib/python3.6/dist-packages (from fvcore>=0.1.2->detectron2) (5.1)\n",
            "Collecting iopath>=0.1.2\n",
            "  Downloading https://files.pythonhosted.org/packages/7a/9a/87a281c8cfc0ad1fceb228a4f854d02f19b2c2395476dd573327709b52ae/iopath-0.1.2.tar.gz\n",
            "Requirement already satisfied: setuptools>=18.0 in /usr/local/lib/python3.6/dist-packages (from pycocotools>=2.0.2->detectron2) (50.3.2)\n",
            "Requirement already satisfied: cython>=0.27.3 in /usr/local/lib/python3.6/dist-packages (from pycocotools>=2.0.2->detectron2) (0.29.21)\n",
            "Requirement already satisfied: pyparsing>=2.1.4 in /usr/local/lib/python3.6/dist-packages (from pydot->detectron2) (2.4.7)\n",
            "Requirement already satisfied: cycler>=0.10 in /usr/local/lib/python3.6/dist-packages (from matplotlib->detectron2) (0.10.0)\n",
            "Requirement already satisfied: python-dateutil>=2.1 in /usr/local/lib/python3.6/dist-packages (from matplotlib->detectron2) (2.8.1)\n",
            "Requirement already satisfied: kiwisolver>=1.0.1 in /usr/local/lib/python3.6/dist-packages (from matplotlib->detectron2) (1.3.1)\n",
            "Requirement already satisfied: google-auth<2,>=1.6.3 in /usr/local/lib/python3.6/dist-packages (from tensorboard->detectron2) (1.17.2)\n",
            "Requirement already satisfied: protobuf>=3.6.0 in /usr/local/lib/python3.6/dist-packages (from tensorboard->detectron2) (3.12.4)\n",
            "Requirement already satisfied: requests<3,>=2.21.0 in /usr/local/lib/python3.6/dist-packages (from tensorboard->detectron2) (2.23.0)\n",
            "Requirement already satisfied: absl-py>=0.4 in /usr/local/lib/python3.6/dist-packages (from tensorboard->detectron2) (0.10.0)\n",
            "Requirement already satisfied: grpcio>=1.24.3 in /usr/local/lib/python3.6/dist-packages (from tensorboard->detectron2) (1.32.0)\n",
            "Requirement already satisfied: six>=1.10.0 in /usr/local/lib/python3.6/dist-packages (from tensorboard->detectron2) (1.15.0)\n",
            "Requirement already satisfied: wheel>=0.26; python_version >= \"3\" in /usr/local/lib/python3.6/dist-packages (from tensorboard->detectron2) (0.36.2)\n",
            "Requirement already satisfied: tensorboard-plugin-wit>=1.6.0 in /usr/local/lib/python3.6/dist-packages (from tensorboard->detectron2) (1.7.0)\n",
            "Requirement already satisfied: markdown>=2.6.8 in /usr/local/lib/python3.6/dist-packages (from tensorboard->detectron2) (3.3.3)\n",
            "Requirement already satisfied: google-auth-oauthlib<0.5,>=0.4.1 in /usr/local/lib/python3.6/dist-packages (from tensorboard->detectron2) (0.4.2)\n",
            "Requirement already satisfied: werkzeug>=0.11.15 in /usr/local/lib/python3.6/dist-packages (from tensorboard->detectron2) (1.0.1)\n",
            "Collecting portalocker\n",
            "  Downloading https://files.pythonhosted.org/packages/89/a6/3814b7107e0788040870e8825eebf214d72166adf656ba7d4bf14759a06a/portalocker-2.0.0-py2.py3-none-any.whl\n",
            "Requirement already satisfied: cachetools<5.0,>=2.0.0 in /usr/local/lib/python3.6/dist-packages (from google-auth<2,>=1.6.3->tensorboard->detectron2) (4.2.0)\n",
            "Requirement already satisfied: pyasn1-modules>=0.2.1 in /usr/local/lib/python3.6/dist-packages (from google-auth<2,>=1.6.3->tensorboard->detectron2) (0.2.8)\n",
            "Requirement already satisfied: rsa<5,>=3.1.4; python_version >= \"3\" in /usr/local/lib/python3.6/dist-packages (from google-auth<2,>=1.6.3->tensorboard->detectron2) (4.6)\n",
            "Requirement already satisfied: certifi>=2017.4.17 in /usr/local/lib/python3.6/dist-packages (from requests<3,>=2.21.0->tensorboard->detectron2) (2020.12.5)\n",
            "Requirement already satisfied: idna<3,>=2.5 in /usr/local/lib/python3.6/dist-packages (from requests<3,>=2.21.0->tensorboard->detectron2) (2.10)\n",
            "Requirement already satisfied: urllib3!=1.25.0,!=1.25.1,<1.26,>=1.21.1 in /usr/local/lib/python3.6/dist-packages (from requests<3,>=2.21.0->tensorboard->detectron2) (1.24.3)\n",
            "Requirement already satisfied: chardet<4,>=3.0.2 in /usr/local/lib/python3.6/dist-packages (from requests<3,>=2.21.0->tensorboard->detectron2) (3.0.4)\n",
            "Requirement already satisfied: importlib-metadata; python_version < \"3.8\" in /usr/local/lib/python3.6/dist-packages (from markdown>=2.6.8->tensorboard->detectron2) (3.3.0)\n",
            "Requirement already satisfied: requests-oauthlib>=0.7.0 in /usr/local/lib/python3.6/dist-packages (from google-auth-oauthlib<0.5,>=0.4.1->tensorboard->detectron2) (1.3.0)\n",
            "Requirement already satisfied: pyasn1<0.5.0,>=0.4.6 in /usr/local/lib/python3.6/dist-packages (from pyasn1-modules>=0.2.1->google-auth<2,>=1.6.3->tensorboard->detectron2) (0.4.8)\n",
            "Requirement already satisfied: typing-extensions>=3.6.4; python_version < \"3.8\" in /usr/local/lib/python3.6/dist-packages (from importlib-metadata; python_version < \"3.8\"->markdown>=2.6.8->tensorboard->detectron2) (3.7.4.3)\n",
            "Requirement already satisfied: zipp>=0.5 in /usr/local/lib/python3.6/dist-packages (from importlib-metadata; python_version < \"3.8\"->markdown>=2.6.8->tensorboard->detectron2) (3.4.0)\n",
            "Requirement already satisfied: oauthlib>=3.0.0 in /usr/local/lib/python3.6/dist-packages (from requests-oauthlib>=0.7.0->google-auth-oauthlib<0.5,>=0.4.1->tensorboard->detectron2) (3.1.0)\n",
            "Building wheels for collected packages: fvcore, iopath\n",
            "  Building wheel for fvcore (setup.py) ... \u001b[?25l\u001b[?25hdone\n",
            "  Created wheel for fvcore: filename=fvcore-0.1.2.post20201218-cp36-none-any.whl size=40701 sha256=b9630a705ae0d79e1695a4161eaf4f29d0683b4f9af35e98cdcddb9b8ee582d6\n",
            "  Stored in directory: /root/.cache/pip/wheels/b5/83/3f/e74a72d264351b5ada512da845a5c6abb81a34f6333c3a54ce\n",
            "  Building wheel for iopath (setup.py) ... \u001b[?25l\u001b[?25hdone\n",
            "  Created wheel for iopath: filename=iopath-0.1.2-cp36-none-any.whl size=10508 sha256=4e9f8f299baa26d24020582eed7b81d32dae5abd4419520d5b26894c7ebf06ef\n",
            "  Stored in directory: /root/.cache/pip/wheels/9e/01/e4/1b68f5a2a6b9450ea4246d91840a77e1169f7d4722d76bbc47\n",
            "Successfully built fvcore iopath\n",
            "\u001b[31mERROR: albumentations 0.1.12 has requirement imgaug<0.2.7,>=0.2.5, but you'll have imgaug 0.2.9 which is incompatible.\u001b[0m\n",
            "Installing collected packages: yacs, Pillow, portalocker, iopath, fvcore, detectron2\n",
            "  Found existing installation: Pillow 7.0.0\n",
            "    Uninstalling Pillow-7.0.0:\n",
            "      Successfully uninstalled Pillow-7.0.0\n",
            "Successfully installed Pillow-8.0.1 detectron2-0.3+cu101 fvcore-0.1.2.post20201218 iopath-0.1.2 portalocker-2.0.0 yacs-0.1.8\n"
          ],
          "name": "stdout"
        },
        {
          "output_type": "display_data",
          "data": {
            "application/vnd.colab-display-data+json": {
              "pip_warning": {
                "packages": [
                  "PIL"
                ]
              }
            }
          },
          "metadata": {
            "tags": []
          }
        }
      ]
    },
    {
      "cell_type": "code",
      "metadata": {
        "id": "3FZdfxCX1vjy",
        "colab": {
          "base_uri": "https://localhost:8080/"
        },
        "outputId": "015acb48-f7ad-43ec-a259-94c0ae2076d5"
      },
      "source": [
        "# Some basic setup:\n",
        "# Setup detectron2 logger\n",
        "import detectron2\n",
        "from detectron2.utils.logger import setup_logger\n",
        "setup_logger()\n",
        "\n",
        "# import some common libraries\n",
        "import numpy as np\n",
        "import os, json, cv2, random\n",
        "from google.colab.patches import cv2_imshow\n",
        "\n",
        "# import some common detectron2 utilities\n",
        "from detectron2 import model_zoo\n",
        "from detectron2.engine import DefaultPredictor\n",
        "from detectron2.config import get_cfg\n",
        "from detectron2.utils.visualizer import Visualizer\n",
        "from detectron2.data import MetadataCatalog, DatasetCatalog"
      ],
      "execution_count": 1,
      "outputs": [
        {
          "output_type": "stream",
          "text": [
            "** fvcore version of PathManager will be deprecated soon. **\n",
            "** Please migrate to the version in iopath repo. **\n",
            "https://github.com/facebookresearch/iopath \n",
            "\n",
            "** fvcore version of PathManager will be deprecated soon. **\n",
            "** Please migrate to the version in iopath repo. **\n",
            "https://github.com/facebookresearch/iopath \n",
            "\n"
          ],
          "name": "stderr"
        }
      ]
    },
    {
      "cell_type": "code",
      "metadata": {
        "id": "h8whsgWM1lRT"
      },
      "source": [
        "import time\n",
        "from detectron2.utils.visualizer import ColorMode\n",
        "\n",
        "import matplotlib.pyplot as plt\n",
        "import matplotlib as mpl\n",
        "import logging\n",
        "import threading\n",
        "import time\n",
        "import math\n",
        "from detectron2.data.datasets import register_coco_instances"
      ],
      "execution_count": 2,
      "outputs": []
    },
    {
      "cell_type": "code",
      "metadata": {
        "colab": {
          "base_uri": "https://localhost:8080/"
        },
        "id": "mDSquIGP1y9p",
        "outputId": "3bc78376-400e-4bad-b361-cf651281fde1"
      },
      "source": [
        "\n",
        "from google.colab import drive\n",
        "drive.mount('/content/drive', force_remount=True)\n"
      ],
      "execution_count": 3,
      "outputs": [
        {
          "output_type": "stream",
          "text": [
            "Mounted at /content/drive\n"
          ],
          "name": "stdout"
        }
      ]
    },
    {
      "cell_type": "markdown",
      "metadata": {
        "id": "4tFcabn92hGR"
      },
      "source": [
        "To save a model, run the following"
      ]
    },
    {
      "cell_type": "code",
      "metadata": {
        "id": "Dav0210D1OUr"
      },
      "source": [
        "#To save a model, run:\n",
        "# !cp 'output/model_final.pth' 'drive/My Drive/CIS581/FinalProject/Ruleset/outputfile.pth'\n",
        "#Do this directly after the training stage"
      ],
      "execution_count": null,
      "outputs": []
    },
    {
      "cell_type": "markdown",
      "metadata": {
        "id": "PsP8p6ea2lEQ"
      },
      "source": [
        "For Loading a pretrained Model do the following (If takes more than 1 minute to run, check if you have the GPU enabled):"
      ]
    },
    {
      "cell_type": "code",
      "metadata": {
        "colab": {
          "base_uri": "https://localhost:8080/"
        },
        "id": "C3Hz9i05xZ2W",
        "outputId": "068b042d-3908-4c90-e22b-ee8b0bb9b557"
      },
      "source": [
        "ls"
      ],
      "execution_count": 8,
      "outputs": [
        {
          "output_type": "stream",
          "text": [
            "\u001b[0m\u001b[01;34mdrive\u001b[0m/  \u001b[01;34msample_data\u001b[0m/\n"
          ],
          "name": "stdout"
        }
      ]
    },
    {
      "cell_type": "code",
      "metadata": {
        "id": "dZd8Hm_ev1_k"
      },
      "source": [
        "videopath='/content/drive/My Drive/CIS581/cca96d47-c214cf4d.mp4'\r\n",
        "outputpath=\"/content/drive/My Drive/CIS581/FinalProject/padestrians_solid.mp4\"\r\n",
        "rulesetpath=\"/drive/MyDrive/CIS581/Highres.pth\""
      ],
      "execution_count": 13,
      "outputs": []
    },
    {
      "cell_type": "code",
      "metadata": {
        "id": "-ENmB3Hm1aL9",
        "colab": {
          "base_uri": "https://localhost:8080/",
          "height": 352
        },
        "outputId": "4a0db5b6-01f0-44e3-e273-edc10a6b3c01"
      },
      "source": [
        "#To load a model run:\n",
        "cfg = get_cfg()\n",
        "cfg.merge_from_file(model_zoo.get_config_file(\"COCO-InstanceSegmentation/mask_rcnn_R_50_FPN_3x.yaml\"))\n",
        "cfg.MODEL.ROI_HEADS.NUM_CLASSES = 14\n",
        "cfg.MODEL.ROI_HEADS.SCORE_THRESH_TEST = 0.7   # set a custom testing threshold\n",
        "cfg.MODEL.WEIGHTS =rulesetpath# path to the model we trained\n",
        "predictor = DefaultPredictor(cfg)\n"
      ],
      "execution_count": 14,
      "outputs": [
        {
          "output_type": "error",
          "ename": "AssertionError",
          "evalue": "ignored",
          "traceback": [
            "\u001b[0;31m---------------------------------------------------------------------------\u001b[0m",
            "\u001b[0;31mAssertionError\u001b[0m                            Traceback (most recent call last)",
            "\u001b[0;32m<ipython-input-14-74357814f1a6>\u001b[0m in \u001b[0;36m<module>\u001b[0;34m()\u001b[0m\n\u001b[1;32m      5\u001b[0m \u001b[0mcfg\u001b[0m\u001b[0;34m.\u001b[0m\u001b[0mMODEL\u001b[0m\u001b[0;34m.\u001b[0m\u001b[0mROI_HEADS\u001b[0m\u001b[0;34m.\u001b[0m\u001b[0mSCORE_THRESH_TEST\u001b[0m \u001b[0;34m=\u001b[0m \u001b[0;36m0.7\u001b[0m   \u001b[0;31m# set a custom testing threshold\u001b[0m\u001b[0;34m\u001b[0m\u001b[0;34m\u001b[0m\u001b[0m\n\u001b[1;32m      6\u001b[0m \u001b[0mcfg\u001b[0m\u001b[0;34m.\u001b[0m\u001b[0mMODEL\u001b[0m\u001b[0;34m.\u001b[0m\u001b[0mWEIGHTS\u001b[0m \u001b[0;34m=\u001b[0m\u001b[0mrulesetpath\u001b[0m\u001b[0;31m# path to the model we trained\u001b[0m\u001b[0;34m\u001b[0m\u001b[0;34m\u001b[0m\u001b[0m\n\u001b[0;32m----> 7\u001b[0;31m \u001b[0mpredictor\u001b[0m \u001b[0;34m=\u001b[0m \u001b[0mDefaultPredictor\u001b[0m\u001b[0;34m(\u001b[0m\u001b[0mcfg\u001b[0m\u001b[0;34m)\u001b[0m\u001b[0;34m\u001b[0m\u001b[0;34m\u001b[0m\u001b[0m\n\u001b[0m",
            "\u001b[0;32m/usr/local/lib/python3.6/dist-packages/detectron2/engine/defaults.py\u001b[0m in \u001b[0;36m__init__\u001b[0;34m(self, cfg)\u001b[0m\n\u001b[1;32m    192\u001b[0m \u001b[0;34m\u001b[0m\u001b[0m\n\u001b[1;32m    193\u001b[0m         \u001b[0mcheckpointer\u001b[0m \u001b[0;34m=\u001b[0m \u001b[0mDetectionCheckpointer\u001b[0m\u001b[0;34m(\u001b[0m\u001b[0mself\u001b[0m\u001b[0;34m.\u001b[0m\u001b[0mmodel\u001b[0m\u001b[0;34m)\u001b[0m\u001b[0;34m\u001b[0m\u001b[0;34m\u001b[0m\u001b[0m\n\u001b[0;32m--> 194\u001b[0;31m         \u001b[0mcheckpointer\u001b[0m\u001b[0;34m.\u001b[0m\u001b[0mload\u001b[0m\u001b[0;34m(\u001b[0m\u001b[0mcfg\u001b[0m\u001b[0;34m.\u001b[0m\u001b[0mMODEL\u001b[0m\u001b[0;34m.\u001b[0m\u001b[0mWEIGHTS\u001b[0m\u001b[0;34m)\u001b[0m\u001b[0;34m\u001b[0m\u001b[0;34m\u001b[0m\u001b[0m\n\u001b[0m\u001b[1;32m    195\u001b[0m \u001b[0;34m\u001b[0m\u001b[0m\n\u001b[1;32m    196\u001b[0m         self.aug = T.ResizeShortestEdge(\n",
            "\u001b[0;32m/usr/local/lib/python3.6/dist-packages/fvcore/common/checkpoint.py\u001b[0m in \u001b[0;36mload\u001b[0;34m(self, path, checkpointables)\u001b[0m\n\u001b[1;32m    118\u001b[0m         \u001b[0;32mif\u001b[0m \u001b[0;32mnot\u001b[0m \u001b[0mos\u001b[0m\u001b[0;34m.\u001b[0m\u001b[0mpath\u001b[0m\u001b[0;34m.\u001b[0m\u001b[0misfile\u001b[0m\u001b[0;34m(\u001b[0m\u001b[0mpath\u001b[0m\u001b[0;34m)\u001b[0m\u001b[0;34m:\u001b[0m\u001b[0;34m\u001b[0m\u001b[0;34m\u001b[0m\u001b[0m\n\u001b[1;32m    119\u001b[0m             \u001b[0mpath\u001b[0m \u001b[0;34m=\u001b[0m \u001b[0mself\u001b[0m\u001b[0;34m.\u001b[0m\u001b[0mpath_manager\u001b[0m\u001b[0;34m.\u001b[0m\u001b[0mget_local_path\u001b[0m\u001b[0;34m(\u001b[0m\u001b[0mpath\u001b[0m\u001b[0;34m)\u001b[0m\u001b[0;34m\u001b[0m\u001b[0;34m\u001b[0m\u001b[0m\n\u001b[0;32m--> 120\u001b[0;31m             \u001b[0;32massert\u001b[0m \u001b[0mos\u001b[0m\u001b[0;34m.\u001b[0m\u001b[0mpath\u001b[0m\u001b[0;34m.\u001b[0m\u001b[0misfile\u001b[0m\u001b[0;34m(\u001b[0m\u001b[0mpath\u001b[0m\u001b[0;34m)\u001b[0m\u001b[0;34m,\u001b[0m \u001b[0;34m\"Checkpoint {} not found!\"\u001b[0m\u001b[0;34m.\u001b[0m\u001b[0mformat\u001b[0m\u001b[0;34m(\u001b[0m\u001b[0mpath\u001b[0m\u001b[0;34m)\u001b[0m\u001b[0;34m\u001b[0m\u001b[0;34m\u001b[0m\u001b[0m\n\u001b[0m\u001b[1;32m    121\u001b[0m \u001b[0;34m\u001b[0m\u001b[0m\n\u001b[1;32m    122\u001b[0m         \u001b[0mcheckpoint\u001b[0m \u001b[0;34m=\u001b[0m \u001b[0mself\u001b[0m\u001b[0;34m.\u001b[0m\u001b[0m_load_file\u001b[0m\u001b[0;34m(\u001b[0m\u001b[0mpath\u001b[0m\u001b[0;34m)\u001b[0m\u001b[0;34m\u001b[0m\u001b[0;34m\u001b[0m\u001b[0m\n",
            "\u001b[0;31mAssertionError\u001b[0m: Checkpoint /drive/MyDrive/CIS581/Highres.pth not found!"
          ]
        }
      ]
    },
    {
      "cell_type": "markdown",
      "metadata": {
        "id": "92fQmLIx1ii2"
      },
      "source": [
        "Running Live Video Detections "
      ]
    },
    {
      "cell_type": "code",
      "metadata": {
        "id": "g2w6sBtN15WX",
        "colab": {
          "base_uri": "https://localhost:8080/"
        },
        "outputId": "f7cd1898-80e1-4d75-f148-ef65f78dc755"
      },
      "source": [
        "def threading_funct(frame):\n",
        "  outputs = predictor(frame) \n",
        "  data=outputs[\"instances\"].to(\"cpu\")\n",
        "  output_mask=data.pred_masks.numpy().astype(int)\n",
        "  output_classes=data.pred_classes.numpy()\n",
        "  count=output_classes.shape\n",
        "  mask=output_mask*output_classes[:,np.newaxis, np.newaxis]\n",
        "  #print(\"mask shape=\",mask.shape)\n",
        "\n",
        "  #print(\"max value=\",max(mask))\n",
        "  mask=np.where(mask==3,18,mask)\n",
        "  #print(\"mask shape=\",mask.shape)\n",
        "  newimage1=np.amax(mask,axis=0)\n",
        "  global value\n",
        "  value=outputs[\"instances\"].to(\"cpu\").pred_boxes.tensor.numpy().astype(float)[3]\n",
        "  global start\n",
        "  start=(int((value[2]+value[0])/2),int((value[3]+value[1])/2))  \n",
        "  global endpoint\n",
        "  endpoint=(int(line_length*math.cos(np.deg2rad(arrow_angle)))+start[0],int(line_length*math.sin(np.deg2rad(arrow_angle)))+start[1])\n",
        "  #Checking for Intersection\n",
        "  line_y=100\n",
        "\n",
        "  x_new=(math.cos(np.deg2rad(arrow_angle)))*10+start[0]\n",
        "  global y_new, y1\n",
        "  y_new=-(math.sin(np.deg2rad(arrow_angle))*10)+start[1]\n",
        "  x1=start[0]\n",
        "  y1=start[1]\n",
        "  if (x1-x_new==0):\n",
        "    x_new+=0.0000001\n",
        "  if (y1-y_new==0):\n",
        "    y_new+=0.000001  \n",
        "  slope=((y1-y_new)/(x1-x_new))\n",
        "  b=y1-(slope*x1)\n",
        "  global intersect_loc_x\n",
        "  intersect_loc_x=(100-b)/slope#(slope*line_y)+b\n",
        " \n",
        "  global newimage\n",
        "  newimage=newimage1\n",
        "  global ready\n",
        "  ready=True\n",
        "\n",
        "  global newimageframe\n",
        "  newimageframe=frame\n",
        "\n",
        "\n",
        "print(\"set video fps before running this code\")\n",
        "print(\"Code may fail on first run, if this happens try running again.\")\n",
        "fps=29.97\n",
        "print(\"fps=\",fps)\n",
        "\n",
        "\n",
        "#video=cv2.VideoCapture('480_360vid.mp4')\n",
        "video=cv2.VideoCapture(videopath)\n",
        "\n",
        "frame_width = int(video.get(3)*2) \n",
        "frame_height = int(video.get(4)) \n",
        "   \n",
        "size = (frame_width, frame_height) \n",
        "output=cv2.VideoWriter(outputpath,  \n",
        "                         cv2.VideoWriter_fourcc(*'Mp4V'), \n",
        "                         fps, size)\n",
        "ready=True\n",
        "counter=0\n",
        "starttime=time.time()\n",
        "\n",
        "\n",
        "arrow_angle=0\n",
        "start=(0,0)\n",
        "line_length=30\n",
        "endpoint=(0,0)\n",
        "intersect_loc_x=10000\n",
        "minbound=0.3*(frame_width/2)\n",
        "maxbound=(frame_width/2)-(0.3*(frame_width/2))\n",
        "\n",
        "while(True):\n",
        "  t=time.time()\n",
        "  \n",
        "  ret,frame=video.read()\n",
        " \n",
        "  if ret==True:\n",
        "    if ready==True:\n",
        "      if counter==0:\n",
        "        outputim=frame\n",
        "      ready=False\n",
        "      x=threading.Thread(target=threading_funct, args=(frame,) )\n",
        "      x.start()   \n",
        "    else:\n",
        "      if counter==0:\n",
        "        outputim=frame\n",
        "        newimageframe=frame\n",
        "      else:  \n",
        "        outputim=(newimage*25).astype(np.uint8)\n",
        "        outputim=cv2.cvtColor(outputim, cv2.COLOR_RGB2BGR)\n",
        "        outputim=cv2.applyColorMap(outputim,cv2.COLORMAP_JET)  \n",
        "    \n",
        "    if counter==0:\n",
        "      outputs = predictor(frame)\n",
        "      newimageframe=frame\n",
        "    arrow_angle+=0.7\n",
        "    if arrow_angle>=360:\n",
        "      arrow_angle=0\n",
        "\n",
        "    outputimage=cv2.hconcat([frame,outputim])\n",
        "\n",
        "    output.write(outputimage)\n",
        "    counter=1\n",
        "    timediff=time.time()-t\n",
        "\n",
        "    if timediff < (1/fps):\n",
        "     time.sleep((1.0/fps)-timediff)\n",
        "\n",
        "  else:\n",
        "    break\n",
        "  \n",
        "\n",
        "video.release()\n",
        "output.release()\n",
        "print(\"total Time=\",time.time()-starttime)\n",
        "print(\"Must check length of original video, if length is longer than\")\n",
        "print(\"total time, the program did not run in real time.\")"
      ],
      "execution_count": null,
      "outputs": [
        {
          "output_type": "stream",
          "text": [
            "set video fps before running this code\n",
            "Code may fail on first run, if this happens try running again.\n",
            "fps= 29.97\n",
            "total Time= 0.0003116130828857422\n",
            "Must check length of original video, if length is longer than\n",
            "total time, the program did not run in real time.\n"
          ],
          "name": "stdout"
        }
      ]
    },
    {
      "cell_type": "code",
      "metadata": {
        "id": "X44Q6EIxsm3L"
      },
      "source": [
        ""
      ],
      "execution_count": null,
      "outputs": []
    }
  ]
}
